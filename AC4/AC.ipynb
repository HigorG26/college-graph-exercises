{
 "cells": [
  {
   "cell_type": "markdown",
   "metadata": {},
   "source": [
    "INTEGRANTES\n",
    "\n",
    "Higor Gabriel Ferreira Silva \n",
    "2101910\n",
    "\n",
    "Vitor Pereira Francisco\n",
    "2101830\n",
    "\n",
    "Jonas Gonçalves D`angelo Moreira \n",
    "2101852\n",
    "\n",
    "Ricardo Markevičius \n",
    "2203221"
   ]
  },
  {
   "cell_type": "markdown",
   "metadata": {},
   "source": [
    "Exercício 1 - Crie um algoritmo em Python para gerar uma árvore geradora através de um grafo qualquer."
   ]
  },
  {
   "cell_type": "code",
   "execution_count": null,
   "metadata": {},
   "outputs": [],
   "source": [
    "class Grafo:\n",
    "    def __init__(self, vertices):\n",
    "        self.vertices = vertices\n",
    "        self.arestas = []\n",
    "\n",
    "    def adicionar_aresta(self, u, v, peso):\n",
    "        self.arestas.append((u, v, peso))\n",
    "\n",
    "    def encontrar(self, pai, i):\n",
    "        if pai[i] == i:\n",
    "            return i\n",
    "        return self.encontrar(pai, pai[i])\n",
    "\n",
    "    def unir(self, pai, rank, u, v):\n",
    "        raiz_u = self.encontrar(pai, u)\n",
    "        raiz_v = self.encontrar(pai, v)\n",
    "\n",
    "        if rank[raiz_u] < rank[raiz_v]:\n",
    "            pai[raiz_u] = raiz_v\n",
    "        elif rank[raiz_u] > rank[raiz_v]:\n",
    "            pai[raiz_v] = raiz_u\n",
    "        else:\n",
    "            pai[raiz_v] = raiz_u\n",
    "            rank[raiz_u] += 1\n",
    "\n",
    "    def gerar_arvore_geradora_minima(self):\n",
    "        resultado = []\n",
    "        i, e = 0, 0\n",
    "        self.arestas = sorted(self.arestas, key=lambda item: item[2])\n",
    "        pai = []\n",
    "        rank = []\n",
    "\n",
    "        for node in range(self.vertices):\n",
    "            pai.append(node)\n",
    "            rank.append(0)\n",
    "\n",
    "        while e < self.vertices - 1:\n",
    "            u, v, peso = self.arestas[i]\n",
    "            i += 1\n",
    "            raiz_u = self.encontrar(pai, u)\n",
    "            raiz_v = self.encontrar(pai, v)\n",
    "\n",
    "            if raiz_u != raiz_v:\n",
    "                e += 1\n",
    "                resultado.append((u, v, peso))\n",
    "                self.unir(pai, rank, raiz_u, raiz_v)\n",
    "\n",
    "        return resultado\n",
    "\n",
    "# Exemplo de uso:\n",
    "grafo = Grafo(4)\n",
    "grafo.adicionar_aresta(0, 1, 10)\n",
    "grafo.adicionar_aresta(0, 2, 6)\n",
    "grafo.adicionar_aresta(0, 3, 5)\n",
    "grafo.adicionar_aresta(1, 3, 15)\n",
    "grafo.adicionar_aresta(2, 3, 4)\n",
    "\n",
    "arvore_geradora_minima = grafo.gerar_arvore_geradora_minima()\n",
    "print(\"Arestas da árvore geradora mínima:\")\n",
    "for u, v, peso in arvore_geradora_minima:\n",
    "    print(f\"{u} - {v}: {peso}\")\n"
   ]
  },
  {
   "cell_type": "markdown",
   "metadata": {},
   "source": [
    "Exercício 2 - Crie em Python uma rede que segue o modelo Poisson com 200 nós e p = 0.03. Encontre as medidas estatísticas. (média, variância e desvio padrão)."
   ]
  },
  {
   "cell_type": "code",
   "execution_count": null,
   "metadata": {},
   "outputs": [],
   "source": []
  },
  {
   "cell_type": "markdown",
   "metadata": {},
   "source": [
    "Exercício 2.1 - Suponhamos que, em um projeto deseja criar uma rede que segue o modelo normal (o modelo estatístico é modelo contínuo Gaussiano). Consi- derando o que a média seja 1 e o desvio padrão seja 1. Como será a rede a ser apresentado?\n",
    "\n",
    "Deve apresentar o grafo, o algoritmo e os valores das estatísticas."
   ]
  },
  {
   "cell_type": "code",
   "execution_count": null,
   "metadata": {},
   "outputs": [],
   "source": [
    "Exercício 3 - Crie o algoritmo de Prim no Python."
   ]
  },
  {
   "cell_type": "code",
   "execution_count": null,
   "metadata": {},
   "outputs": [],
   "source": []
  },
  {
   "cell_type": "markdown",
   "metadata": {},
   "source": [
    "Exercício 4 - Crie o algoritmo de Kruskal no Python."
   ]
  }
 ],
 "metadata": {
  "language_info": {
   "name": "python"
  }
 },
 "nbformat": 4,
 "nbformat_minor": 2
}
